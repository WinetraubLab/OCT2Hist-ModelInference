{
  "nbformat": 4,
  "nbformat_minor": 0,
  "metadata": {
    "colab": {
      "provenance": [],
      "gpuType": "T4"
    },
    "kernelspec": {
      "name": "python3",
      "display_name": "Python 3"
    },
    "language_info": {
      "name": "python"
    },
    "accelerator": "GPU"
  },
  "cells": [
    {
      "cell_type": "markdown",
      "source": [
        "# Overview\n",
        "Use this notebook to convert OCT 3D volume (stored in .tiff)  to virtual histology.\n",
        "\n",
        "To get started,\n",
        "[open this notebook in colab](https://colab.research.google.com/github/WinetraubLab/OCT2Hist-ModelInference/blob/main/run_oct2hist3D.ipynb) and run.\n"
      ],
      "metadata": {
        "id": "NQOdtmQ3laV6"
      }
    },
    {
      "cell_type": "code",
      "execution_count": 1,
      "outputs": [],
      "source": [
        "# @title Notebook Inputs { display-mode: \"form\" }\n",
        "# @markdown Input Image Path\n",
        "# Path to the OCT image\n",
        "oct_input_volume_path = \"/content/drive/Shareddrives/Yolab - Current Projects/Aidan/2023 Alopecia Test/AlopeciaTest_Original1.tiff\" # @param {type:\"string\"}\n",
        "\n",
        "# OCT image's pixel size\n",
        "microns_per_pixel_z = 1\n",
        "microns_per_pixel_x = 1\n",
        "microns_per_pixel_y = 1\n",
        "\n",
        "# @markdown Cropping Parameters\n",
        "x0 = 0 # @param {type:\"slider\", min:0, max:1000, step:10}\n",
        "z0 = 150 # @param {type:\"slider\", min:0, max:1000, step:10}\n",
        "\n",
        "output_tiff_path = \"/content/drive/Shareddrives/Yolab - Current Projects/Yonatan/Output.tif\" # @param {type:\"string\"}\n",
        "section_separation_um = 5 # @param {type:\"slider\", min:1, max:20, step:1}\n",
        "\n",
        "min_signal_threshold = 0.46"
      ],
      "metadata": {
        "id": "uSag75ONOOgE"
      }
    },
    {
      "cell_type": "markdown",
      "source": [
        "## Set Up Environment"
      ],
      "metadata": {
        "id": "UNHZ8Sbinu1y"
      }
    },
    {
      "cell_type": "code",
      "source": [
        "if not 'setup_env_oct2Hist_usemodel' in globals():\n",
        "  setup_env_oct2Hist_usemodel = True\n",
        "  !git clone --recurse-submodules https://github.com/WinetraubLab/OCT2Hist-ModelInference\n",
        "  !pip install imageio\n",
        "  %cd OCT2Hist-ModelInference\n",
        "\n",
        "import cv2\n",
        "import imageio\n",
        "import matplotlib.pyplot as plt\n",
        "import numpy as np\n",
        "from PIL import Image\n",
        "import oct2hist\n",
        "from utils.show_images import *\n",
        "from google.colab import drive\n",
        "from utils.crop import crop\n",
        "import os\n",
        "import shutil\n",
        "from tqdm import tqdm\n",
        "drive.mount('/content/drive/')"
      ],
      "metadata": {
        "id": "KpOc9uoU27Ol",
        "colab": {
          "base_uri": "https://localhost:8080/"
        },
        "outputId": "8c3bfceb-2dbb-4f3e-9c70-4f24e4f530be"
      },
      "execution_count": 2,
      "outputs": [
        {
          "output_type": "stream",
          "name": "stdout",
          "text": [
            "Cloning into 'OCT2Hist-ModelInference'...\n",
            "remote: Enumerating objects: 651, done.\u001b[K\n",
            "remote: Counting objects: 100% (147/147), done.\u001b[K\n",
            "remote: Compressing objects: 100% (146/146), done.\u001b[K\n",
            "remote: Total 651 (delta 80), reused 3 (delta 1), pack-reused 504\u001b[K\n",
            "Receiving objects: 100% (651/651), 22.64 MiB | 19.30 MiB/s, done.\n",
            "Resolving deltas: 100% (337/337), done.\n",
            "Submodule 'pytorch-CycleGAN-and-pix2pix' (https://github.com/junyanz/pytorch-CycleGAN-and-pix2pix) registered for path 'pytorch-CycleGAN-and-pix2pix'\n",
            "Cloning into '/content/OCT2Hist-ModelInference/pytorch-CycleGAN-and-pix2pix'...\n",
            "remote: Enumerating objects: 2513, done.        \n",
            "remote: Total 2513 (delta 0), reused 0 (delta 0), pack-reused 2513        \n",
            "Receiving objects: 100% (2513/2513), 8.20 MiB | 9.92 MiB/s, done.\n",
            "Resolving deltas: 100% (1575/1575), done.\n",
            "Submodule path 'pytorch-CycleGAN-and-pix2pix': checked out '9f8f61e5a375c2e01c5187d093ce9c2409f409b0'\n",
            "Requirement already satisfied: imageio in /usr/local/lib/python3.10/dist-packages (2.31.5)\n",
            "Requirement already satisfied: numpy in /usr/local/lib/python3.10/dist-packages (from imageio) (1.23.5)\n",
            "Requirement already satisfied: pillow>=8.3.2 in /usr/local/lib/python3.10/dist-packages (from imageio) (9.4.0)\n",
            "/content/OCT2Hist-ModelInference\n",
            "Mounted at /content/drive/\n"
          ]
        }
      ]
    },
    {
      "cell_type": "code",
      "source": [
        "# Set up the network environment\n",
        "oct2hist.setup_network()"
      ],
      "metadata": {
        "id": "ioK7xb4n79wZ",
        "outputId": "ce12e3c9-1ffa-436c-b06d-f2d6f84b45f2",
        "colab": {
          "base_uri": "https://localhost:8080/"
        }
      },
      "execution_count": 3,
      "outputs": [
        {
          "output_type": "stream",
          "name": "stdout",
          "text": [
            "Drive already mounted at /content/drive/; to attempt to forcibly remount, call drive.mount(\"/content/drive/\", force_remount=True).\n"
          ]
        }
      ]
    },
    {
      "cell_type": "code",
      "source": [
        "def merge_tiff_files(input_folder, output_file):\n",
        "    # Get a list of all TIFF files in the input folder\n",
        "    tiff_files = [file for file in os.listdir(input_folder) if file.lower().endswith('.png')]\n",
        "\n",
        "    # Sort the files if needed\n",
        "    tiff_files.sort()\n",
        "\n",
        "    # Open all TIFF files\n",
        "    images = [Image.open(os.path.join(input_folder, file)) for file in tiff_files]\n",
        "\n",
        "    # Save as multi-page TIFF\n",
        "    images[0].save(output_file, save_all=True, append_images=images[1:])"
      ],
      "metadata": {
        "id": "AzXA6pE9Ogy2"
      },
      "execution_count": 4,
      "outputs": []
    },
    {
      "cell_type": "markdown",
      "source": [
        "## Run\n",
        "In this step we load the OCT image, then crops it to the right size\n",
        "\n"
      ],
      "metadata": {
        "id": "FYlb7hiAYnev"
      }
    },
    {
      "cell_type": "code",
      "source": [
        "# Load OCT image\n",
        "_, oct_volume = cv2.imreadmulti(oct_input_volume_path)\n",
        "oct_volume = np.asarray(oct_volume)\n",
        "\n",
        "# Create a temporary folder for individual scans\n",
        "tmp_folder = '/content/tmp/'\n",
        "if os.path.exists(tmp_folder):\n",
        "    shutil.rmtree(tmp_folder)\n",
        "    print(f\"Folder '{tmp_folder}' deleted.\")\n",
        "os.makedirs(tmp_folder) # Create a new folder\n",
        "\n",
        "# Loop over entire volume convert and append to outputfile\n",
        "for i in tqdm(\n",
        "    range(0,oct_volume.shape[0],int(section_separation_um/microns_per_pixel_y)),\n",
        "    desc=\"Converting OCT to Histology\", unit=\"image\"):\n",
        "  # Crop\n",
        "  oct_image = cv2.cvtColor(oct_volume[i,:,:], cv2.COLOR_GRAY2BGR)\n",
        "  cropped = crop(oct_image, target_width=1024, target_height=512, x0=x0, z0=z0)\n",
        "\n",
        "  # Run Inference\n",
        "  virtual_histology_image, *_ = oct2hist.run_network(\n",
        "    cropped,\n",
        "    microns_per_pixel_x = microns_per_pixel_x,\n",
        "    microns_per_pixel_z = microns_per_pixel_z,\n",
        "    min_signal_threshold = min_signal_threshold\n",
        "    )\n",
        "\n",
        "  # Save to tmp file\n",
        "  filepath = tmp_folder + \"{0:04}.png\".format(i)\n",
        "  bgr_image = cv2.cvtColor(virtual_histology_image, cv2.COLOR_RGB2BGR)\n",
        "  cv2.imwrite(filepath, bgr_image)\n",
        "\n",
        "# Combine files to one volume\n",
        "print('Exporting file to: ' + output_tiff_path)\n",
        "merge_tiff_files(tmp_folder,output_tiff_path)"
      ],
      "metadata": {
        "id": "0iKHLqfhtmmf",
        "outputId": "4eeb5f3d-b414-4a56-9a1e-0fcb2b3cc964",
        "colab": {
          "base_uri": "https://localhost:8080/"
        }
      },
      "execution_count": 5,
      "outputs": [
        {
          "output_type": "stream",
          "name": "stderr",
          "text": [
            "\rConverting OCT to Histology:   0%|          | 0/25 [00:00<?, ?image/s]/content/OCT2Hist-ModelInference/utils/masking.py:86: RuntimeWarning: Mean of empty slice\n",
            "  m_mean = np.nanmean(filt_img, axis=1)\n",
            "Converting OCT to Histology: 100%|██████████| 25/25 [01:52<00:00,  4.51s/image]\n"
          ]
        },
        {
          "output_type": "stream",
          "name": "stdout",
          "text": [
            "Exporting file to: /content/drive/Shareddrives/Yolab - Current Projects/Yonatan/Output.tif\n"
          ]
        }
      ]
    }
  ]
}