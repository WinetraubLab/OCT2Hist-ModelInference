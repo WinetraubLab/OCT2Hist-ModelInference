{
  "nbformat": 4,
  "nbformat_minor": 0,
  "metadata": {
    "colab": {
      "provenance": [],
      "gpuType": "T4"
    },
    "kernelspec": {
      "name": "python3",
      "display_name": "Python 3"
    },
    "language_info": {
      "name": "python"
    },
    "accelerator": "GPU"
  },
  "cells": [
    {
      "cell_type": "markdown",
      "source": [
        "<a href=\"https://colab.research.google.com/github/WinetraubLab/OCT2Hist-ModelInference/blob/main/run_oct2hist_over_folder.ipynb\" target=\"_blank\">\n",
        "<img src=\"https://colab.research.google.com/assets/colab-badge.svg\" alt=\"Open in Colab\"/></a>\n",
        "<a href=\"https://github.com/WinetraubLab/OCT2Hist-ModelInference/blob/main/run_oct2hist_over_folder.ipynb\" target=\"_blank\">\n",
        "  <img src=\"https://img.shields.io/badge/view%20in-GitHub-blue\" alt=\"View in GitHub\"/>\n",
        "</a>\n",
        "\n",
        "# Overview\n",
        "This script loads a bunch of OCT images from folder, generates a virtual H&E version of those files and save back to output folder."
      ],
      "metadata": {
        "id": "NQOdtmQ3laV6"
      }
    },
    {
      "cell_type": "code",
      "execution_count": 1,
      "outputs": [],
      "source": [
        "# @title Notebook Inputs { display-mode: \"form\" }\n",
        "# @markdown Paths\n",
        "\n",
        "# Path to the OCT image\n",
        "oct_input_image_folder = \"/content/drive/Shareddrives/Yolab - Current Projects/_Datasets/2020-11-10 10x OCT2Hist Model (Paper V2)/Results/TrainSet/\" # @param {type:\"string\"}\n",
        "virtal_histology_output_folder = \"/content/output/\" # @param {type:\"string\"}\n",
        "\n",
        "# OCT image's pixel size\n",
        "microns_per_pixel_z = 1\n",
        "microns_per_pixel_x = 1\n",
        "\n",
        "# @markdown Cropping Parameters\n",
        "import numpy as np\n",
        "x0 = 0 # @param {type:\"slider\", min:0, max:1000, step:10}\n",
        "z0 = 0 # @param {type:\"slider\", min:0, max:1000, step:10}\n",
        "\n",
        "# @markdown Low signal threshold, negative means auto select\n",
        "min_signal_threshold = 0.15 # @param {type:\"slider\", min:-0.1, max:0.4, step:0.01}\n",
        "if min_signal_threshold < 0:\n",
        "  min_signal_threshold = np.nan\n"
      ],
      "metadata": {
        "id": "uSag75ONOOgE"
      }
    },
    {
      "cell_type": "code",
      "source": [
        "# @title Setup Environment\n",
        "if not 'setup_env_oct2Hist_usemodel' in globals():\n",
        "  setup_env_oct2Hist_usemodel = True\n",
        "  !git clone --recurse-submodules https://github.com/WinetraubLab/OCT2Hist-ModelInference\n",
        "  %cd OCT2Hist-ModelInference\n",
        "\n",
        "import cv2\n",
        "import matplotlib.pyplot as plt\n",
        "import numpy as np\n",
        "import oct2hist\n",
        "from utils.show_images import *\n",
        "from google.colab import drive\n",
        "from utils.crop import crop\n",
        "import os\n",
        "drive.mount('/content/drive/')\n",
        "\n",
        "# Set up the network environment\n",
        "oct2hist.setup_network()"
      ],
      "metadata": {
        "id": "KpOc9uoU27Ol",
        "colab": {
          "base_uri": "https://localhost:8080/"
        },
        "outputId": "34c69fba-93e8-429e-dcd9-5ddccd56775a",
        "cellView": "form"
      },
      "execution_count": 3,
      "outputs": [
        {
          "output_type": "stream",
          "name": "stdout",
          "text": [
            "Drive already mounted at /content/drive/; to attempt to forcibly remount, call drive.mount(\"/content/drive/\", force_remount=True).\n",
            "Mounting drive: if it takes >30 sec, re-run.\n",
            "Drive already mounted at /content/drive/; to attempt to forcibly remount, call drive.mount(\"/content/drive/\", force_remount=True).\n",
            "Drive mounted.\n"
          ]
        }
      ]
    },
    {
      "cell_type": "code",
      "source": [
        "# @title Run\n",
        "\n",
        "# List images\n",
        "def list_images_in_folder(folder_path):\n",
        "  image_extensions = ('.png', '.jpg', '.jpeg', '.gif', '.bmp', '.tiff')\n",
        "  images = []\n",
        "\n",
        "  for root, dirs, files in os.walk(folder_path):\n",
        "    for file in files:\n",
        "      if file.lower().endswith(image_extensions):\n",
        "        file_path = os.path.join(root, file)\n",
        "        images.append((file, file_path))\n",
        "\n",
        "  return images\n",
        "image_path_and_names = list_images_in_folder(oct_input_image_folder)\n",
        "\n",
        "# Create output folder\n",
        "if not os.path.exists(virtal_histology_output_folder):\n",
        "  os.makedirs(virtal_histology_output_folder)\n",
        "\n",
        "# Run inference and save results\n",
        "for image_name, image_path in image_path_and_names:\n",
        "\n",
        "  # Load image, crop\n",
        "  oct_image = cv2.imread(image_path)\n",
        "  cropped = crop(oct_image, target_width=1024, target_height=512, x0=x0, z0=z0)\n",
        "\n",
        "  # Run Inference\n",
        "  virtual_histology_image, masked_image , o2h_input = oct2hist.run_network(\n",
        "      cropped,\n",
        "      microns_per_pixel_x = microns_per_pixel_x,\n",
        "      microns_per_pixel_z = microns_per_pixel_z,\n",
        "      min_signal_threshold = min_signal_threshold,\n",
        "      )\n",
        "\n",
        "  # Save output file\n",
        "  virtual_histology_image_path = os.path.join(virtal_histology_output_folder, image_name)\n",
        "  cv2.imwrite(virtual_histology_image_path, cv2.cvtColor(virtual_histology_image, cv2.COLOR_RGB2BGR))\n",
        "\n",
        "  # Show the virtual histology image result\n",
        "  #showTwoImgs(oct_image, virtual_histology_image)"
      ],
      "metadata": {
        "id": "0iKHLqfhtmmf"
      },
      "execution_count": null,
      "outputs": []
    },
    {
      "cell_type": "code",
      "source": [
        "# @title Save folder as a zip file\n",
        "import zipfile\n",
        "\n",
        "def zip_images_in_folder(folder_path, output_zip_path):\n",
        "    with zipfile.ZipFile(output_zip_path, 'w', zipfile.ZIP_DEFLATED) as zipf:\n",
        "        for root, _, files in os.walk(folder_path):\n",
        "            for file in files:\n",
        "                if file.lower().endswith(('.png', '.jpg', '.jpeg', '.tiff', '.bmp', '.gif')):\n",
        "                    file_path = os.path.join(root, file)\n",
        "                    zipf.write(file_path, os.path.relpath(file_path, folder_path))\n",
        "\n",
        "# Call the function to zip images\n",
        "zip_images_in_folder(virtal_histology_output_folder, '/content/output.zip')"
      ],
      "metadata": {
        "id": "gCvH5BMuttYB"
      },
      "execution_count": 9,
      "outputs": []
    }
  ]
}