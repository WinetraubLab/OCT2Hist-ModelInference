{
 "nbformat": 4,
 "nbformat_minor": 0,
 "metadata": {
  "colab": {
   "provenance": [],
   "gpuType": "T4"
  },
  "kernelspec": {
   "name": "python3",
   "display_name": "Python 3"
  },
  "language_info": {
   "name": "python"
  },
  "accelerator": "GPU"
 },
 "cells": [
  {
   "cell_type": "markdown",
   "source": [
    "# Overview\n",
    "Use this notebook to convert an OCT image you have to an H&E image in order to evaluate how the code works.\n",
    "\n",
    "To get started,\n",
    "[open this notebook in colab](https://colab.research.google.com/github/WinetraubLab/OCT2Hist-UseModel/blob/main/ConvertOCTImagesToHistology.ipynb) and run.\n",
    "\n",
    "## Notebook's Inputs:"
   ],
   "metadata": {
    "id": "NQOdtmQ3laV6"
   }
  },
  {
   "cell_type": "code",
   "execution_count": null,
   "outputs": [],
   "source": [
    "oct_input_image_path = \"/content/drive/Shareddrives/Yolab - Current Projects/_Datasets/2020-11-10 10x Raw Data Used In Paper (Paper V2)/LG-19 - Slide04_Section02 (Fig 3.c)/OCTAligned.tiff\""
   ],
   "metadata": {
    "collapsed": false
   }
  },
  {
   "cell_type": "code",
   "source": [
    "!git clone --recurse-submodules https://github.com/WinetraubLab/OCT2Hist-UseModel\n",
    "%run /content/OCT2Hist-UseModel/setup_env.ipynb\n",
    "from utils.show_images import *\n",
    "from utils.crop import *"
   ],
   "metadata": {
    "id": "KpOc9uoU27Ol",
    "outputId": "b609320f-b99b-4849-cb42-9d2b5937bd49",
    "colab": {
     "base_uri": "https://localhost:8080/",
     "height": 835
    }
   },
   "execution_count": 4,
   "outputs": [
    {
     "output_type": "stream",
     "name": "stdout",
     "text": [
      "fatal: destination path 'OCT2Hist-UseModel' already exists and is not an empty directory.\n"
     ]
    },
    {
     "output_type": "error",
     "ename": "MessageError",
     "evalue": "ignored",
     "traceback": [
      "\u001B[0;31m---------------------------------------------------------------------------\u001B[0m",
      "\u001B[0;31mMessageError\u001B[0m                              Traceback (most recent call last)",
      "\u001B[0;32m/content/OCT2Hist-UseModel/setup_env.ipynb\u001B[0m in \u001B[0;36m<cell line: 4>\u001B[0;34m()\u001B[0m\n\u001B[1;32m      2\u001B[0m \u001B[0;34m\u001B[0m\u001B[0m\n\u001B[1;32m      3\u001B[0m \u001B[0;32mfrom\u001B[0m \u001B[0mgoogle\u001B[0m\u001B[0;34m.\u001B[0m\u001B[0mcolab\u001B[0m \u001B[0;32mimport\u001B[0m \u001B[0mdrive\u001B[0m\u001B[0;34m\u001B[0m\u001B[0;34m\u001B[0m\u001B[0m\n\u001B[0;32m----> 4\u001B[0;31m \u001B[0mdrive\u001B[0m\u001B[0;34m.\u001B[0m\u001B[0mmount\u001B[0m\u001B[0;34m(\u001B[0m\u001B[0;34m'/content/drive/'\u001B[0m\u001B[0;34m)\u001B[0m\u001B[0;34m\u001B[0m\u001B[0;34m\u001B[0m\u001B[0m\n\u001B[0m\u001B[1;32m      5\u001B[0m \u001B[0mget_ipython\u001B[0m\u001B[0;34m(\u001B[0m\u001B[0;34m)\u001B[0m\u001B[0;34m.\u001B[0m\u001B[0mrun_line_magic\u001B[0m\u001B[0;34m(\u001B[0m\u001B[0;34m'cd'\u001B[0m\u001B[0;34m,\u001B[0m \u001B[0;34m'/content/OCT2Hist-UseModel'\u001B[0m\u001B[0;34m)\u001B[0m\u001B[0;34m\u001B[0m\u001B[0;34m\u001B[0m\u001B[0m\n\u001B[1;32m      6\u001B[0m \u001B[0;32mfrom\u001B[0m \u001B[0mutils\u001B[0m\u001B[0;34m.\u001B[0m\u001B[0mpix2pix\u001B[0m \u001B[0;32mimport\u001B[0m \u001B[0msetup_network\u001B[0m\u001B[0;34m\u001B[0m\u001B[0;34m\u001B[0m\u001B[0m\n",
      "\u001B[0;32m/usr/local/lib/python3.10/dist-packages/google/colab/drive.py\u001B[0m in \u001B[0;36mmount\u001B[0;34m(mountpoint, force_remount, timeout_ms, readonly)\u001B[0m\n\u001B[1;32m    101\u001B[0m \u001B[0;32mdef\u001B[0m \u001B[0mmount\u001B[0m\u001B[0;34m(\u001B[0m\u001B[0mmountpoint\u001B[0m\u001B[0;34m,\u001B[0m \u001B[0mforce_remount\u001B[0m\u001B[0;34m=\u001B[0m\u001B[0;32mFalse\u001B[0m\u001B[0;34m,\u001B[0m \u001B[0mtimeout_ms\u001B[0m\u001B[0;34m=\u001B[0m\u001B[0;36m120000\u001B[0m\u001B[0;34m,\u001B[0m \u001B[0mreadonly\u001B[0m\u001B[0;34m=\u001B[0m\u001B[0;32mFalse\u001B[0m\u001B[0;34m)\u001B[0m\u001B[0;34m:\u001B[0m\u001B[0;34m\u001B[0m\u001B[0;34m\u001B[0m\u001B[0m\n\u001B[1;32m    102\u001B[0m   \u001B[0;34m\"\"\"Mount your Google Drive at the specified mountpoint path.\"\"\"\u001B[0m\u001B[0;34m\u001B[0m\u001B[0;34m\u001B[0m\u001B[0m\n\u001B[0;32m--> 103\u001B[0;31m   return _mount(\n\u001B[0m\u001B[1;32m    104\u001B[0m       \u001B[0mmountpoint\u001B[0m\u001B[0;34m,\u001B[0m\u001B[0;34m\u001B[0m\u001B[0;34m\u001B[0m\u001B[0m\n\u001B[1;32m    105\u001B[0m       \u001B[0mforce_remount\u001B[0m\u001B[0;34m=\u001B[0m\u001B[0mforce_remount\u001B[0m\u001B[0;34m,\u001B[0m\u001B[0;34m\u001B[0m\u001B[0;34m\u001B[0m\u001B[0m\n",
      "\u001B[0;32m/usr/local/lib/python3.10/dist-packages/google/colab/drive.py\u001B[0m in \u001B[0;36m_mount\u001B[0;34m(mountpoint, force_remount, timeout_ms, ephemeral, readonly)\u001B[0m\n\u001B[1;32m    130\u001B[0m   )\n\u001B[1;32m    131\u001B[0m   \u001B[0;32mif\u001B[0m \u001B[0mephemeral\u001B[0m\u001B[0;34m:\u001B[0m\u001B[0;34m\u001B[0m\u001B[0;34m\u001B[0m\u001B[0m\n\u001B[0;32m--> 132\u001B[0;31m     _message.blocking_request(\n\u001B[0m\u001B[1;32m    133\u001B[0m         \u001B[0;34m'request_auth'\u001B[0m\u001B[0;34m,\u001B[0m \u001B[0mrequest\u001B[0m\u001B[0;34m=\u001B[0m\u001B[0;34m{\u001B[0m\u001B[0;34m'authType'\u001B[0m\u001B[0;34m:\u001B[0m \u001B[0;34m'dfs_ephemeral'\u001B[0m\u001B[0;34m}\u001B[0m\u001B[0;34m,\u001B[0m \u001B[0mtimeout_sec\u001B[0m\u001B[0;34m=\u001B[0m\u001B[0;32mNone\u001B[0m\u001B[0;34m\u001B[0m\u001B[0;34m\u001B[0m\u001B[0m\n\u001B[1;32m    134\u001B[0m     )\n",
      "\u001B[0;32m/usr/local/lib/python3.10/dist-packages/google/colab/_message.py\u001B[0m in \u001B[0;36mblocking_request\u001B[0;34m(request_type, request, timeout_sec, parent)\u001B[0m\n\u001B[1;32m    174\u001B[0m       \u001B[0mrequest_type\u001B[0m\u001B[0;34m,\u001B[0m \u001B[0mrequest\u001B[0m\u001B[0;34m,\u001B[0m \u001B[0mparent\u001B[0m\u001B[0;34m=\u001B[0m\u001B[0mparent\u001B[0m\u001B[0;34m,\u001B[0m \u001B[0mexpect_reply\u001B[0m\u001B[0;34m=\u001B[0m\u001B[0;32mTrue\u001B[0m\u001B[0;34m\u001B[0m\u001B[0;34m\u001B[0m\u001B[0m\n\u001B[1;32m    175\u001B[0m   )\n\u001B[0;32m--> 176\u001B[0;31m   \u001B[0;32mreturn\u001B[0m \u001B[0mread_reply_from_input\u001B[0m\u001B[0;34m(\u001B[0m\u001B[0mrequest_id\u001B[0m\u001B[0;34m,\u001B[0m \u001B[0mtimeout_sec\u001B[0m\u001B[0;34m)\u001B[0m\u001B[0;34m\u001B[0m\u001B[0;34m\u001B[0m\u001B[0m\n\u001B[0m",
      "\u001B[0;32m/usr/local/lib/python3.10/dist-packages/google/colab/_message.py\u001B[0m in \u001B[0;36mread_reply_from_input\u001B[0;34m(message_id, timeout_sec)\u001B[0m\n\u001B[1;32m    101\u001B[0m     ):\n\u001B[1;32m    102\u001B[0m       \u001B[0;32mif\u001B[0m \u001B[0;34m'error'\u001B[0m \u001B[0;32min\u001B[0m \u001B[0mreply\u001B[0m\u001B[0;34m:\u001B[0m\u001B[0;34m\u001B[0m\u001B[0;34m\u001B[0m\u001B[0m\n\u001B[0;32m--> 103\u001B[0;31m         \u001B[0;32mraise\u001B[0m \u001B[0mMessageError\u001B[0m\u001B[0;34m(\u001B[0m\u001B[0mreply\u001B[0m\u001B[0;34m[\u001B[0m\u001B[0;34m'error'\u001B[0m\u001B[0;34m]\u001B[0m\u001B[0;34m)\u001B[0m\u001B[0;34m\u001B[0m\u001B[0;34m\u001B[0m\u001B[0m\n\u001B[0m\u001B[1;32m    104\u001B[0m       \u001B[0;32mreturn\u001B[0m \u001B[0mreply\u001B[0m\u001B[0;34m.\u001B[0m\u001B[0mget\u001B[0m\u001B[0;34m(\u001B[0m\u001B[0;34m'data'\u001B[0m\u001B[0;34m,\u001B[0m \u001B[0;32mNone\u001B[0m\u001B[0;34m)\u001B[0m\u001B[0;34m\u001B[0m\u001B[0;34m\u001B[0m\u001B[0m\n\u001B[1;32m    105\u001B[0m \u001B[0;34m\u001B[0m\u001B[0m\n",
      "\u001B[0;31mMessageError\u001B[0m: Error: credential propagation was unsuccessful"
     ]
    },
    {
     "output_type": "error",
     "ename": "MessageError",
     "evalue": "ignored",
     "traceback": [
      "\u001B[0;31m---------------------------------------------------------------------------\u001B[0m",
      "\u001B[0;31mMessageError\u001B[0m                              Traceback (most recent call last)",
      "\u001B[0;32m<ipython-input-4-1419165c213c>\u001B[0m in \u001B[0;36m<cell line: 2>\u001B[0;34m()\u001B[0m\n\u001B[1;32m      1\u001B[0m \u001B[0mget_ipython\u001B[0m\u001B[0;34m(\u001B[0m\u001B[0;34m)\u001B[0m\u001B[0;34m.\u001B[0m\u001B[0msystem\u001B[0m\u001B[0;34m(\u001B[0m\u001B[0;34m'git clone --recurse-submodules https://github.com/WinetraubLab/OCT2Hist-UseModel'\u001B[0m\u001B[0;34m)\u001B[0m\u001B[0;34m\u001B[0m\u001B[0;34m\u001B[0m\u001B[0m\n\u001B[0;32m----> 2\u001B[0;31m \u001B[0mget_ipython\u001B[0m\u001B[0;34m(\u001B[0m\u001B[0;34m)\u001B[0m\u001B[0;34m.\u001B[0m\u001B[0mrun_line_magic\u001B[0m\u001B[0;34m(\u001B[0m\u001B[0;34m'run'\u001B[0m\u001B[0;34m,\u001B[0m \u001B[0;34m'/content/OCT2Hist-UseModel/setup_env.ipynb'\u001B[0m\u001B[0;34m)\u001B[0m\u001B[0;34m\u001B[0m\u001B[0;34m\u001B[0m\u001B[0m\n\u001B[0m\u001B[1;32m      3\u001B[0m \u001B[0moct_input_image_path\u001B[0m \u001B[0;34m=\u001B[0m \u001B[0;34m\"/content/drive/Shareddrives/Yolab - Current Projects/_Datasets/2020-11-10 10x Raw Data Used In Paper (Paper V2)/LG-19 - Slide04_Section02 (Fig 3.c)/OCTAligned.tiff\"\u001B[0m\u001B[0;34m\u001B[0m\u001B[0;34m\u001B[0m\u001B[0m\n",
      "\u001B[0;32m/usr/local/lib/python3.10/dist-packages/IPython/core/interactiveshell.py\u001B[0m in \u001B[0;36mrun_line_magic\u001B[0;34m(self, magic_name, line, _stack_depth)\u001B[0m\n\u001B[1;32m   2416\u001B[0m                 \u001B[0mkwargs\u001B[0m\u001B[0;34m[\u001B[0m\u001B[0;34m'local_ns'\u001B[0m\u001B[0;34m]\u001B[0m \u001B[0;34m=\u001B[0m \u001B[0mself\u001B[0m\u001B[0;34m.\u001B[0m\u001B[0mget_local_scope\u001B[0m\u001B[0;34m(\u001B[0m\u001B[0mstack_depth\u001B[0m\u001B[0;34m)\u001B[0m\u001B[0;34m\u001B[0m\u001B[0;34m\u001B[0m\u001B[0m\n\u001B[1;32m   2417\u001B[0m             \u001B[0;32mwith\u001B[0m \u001B[0mself\u001B[0m\u001B[0;34m.\u001B[0m\u001B[0mbuiltin_trap\u001B[0m\u001B[0;34m:\u001B[0m\u001B[0;34m\u001B[0m\u001B[0;34m\u001B[0m\u001B[0m\n\u001B[0;32m-> 2418\u001B[0;31m                 \u001B[0mresult\u001B[0m \u001B[0;34m=\u001B[0m \u001B[0mfn\u001B[0m\u001B[0;34m(\u001B[0m\u001B[0;34m*\u001B[0m\u001B[0margs\u001B[0m\u001B[0;34m,\u001B[0m \u001B[0;34m**\u001B[0m\u001B[0mkwargs\u001B[0m\u001B[0;34m)\u001B[0m\u001B[0;34m\u001B[0m\u001B[0;34m\u001B[0m\u001B[0m\n\u001B[0m\u001B[1;32m   2419\u001B[0m             \u001B[0;32mreturn\u001B[0m \u001B[0mresult\u001B[0m\u001B[0;34m\u001B[0m\u001B[0;34m\u001B[0m\u001B[0m\n\u001B[1;32m   2420\u001B[0m \u001B[0;34m\u001B[0m\u001B[0m\n",
      "\u001B[0;32m<decorator-gen-52>\u001B[0m in \u001B[0;36mrun\u001B[0;34m(self, parameter_s, runner, file_finder)\u001B[0m\n",
      "\u001B[0;32m/usr/local/lib/python3.10/dist-packages/IPython/core/magic.py\u001B[0m in \u001B[0;36m<lambda>\u001B[0;34m(f, *a, **k)\u001B[0m\n\u001B[1;32m    185\u001B[0m     \u001B[0;31m# but it's overkill for just that one bit of state.\u001B[0m\u001B[0;34m\u001B[0m\u001B[0;34m\u001B[0m\u001B[0m\n\u001B[1;32m    186\u001B[0m     \u001B[0;32mdef\u001B[0m \u001B[0mmagic_deco\u001B[0m\u001B[0;34m(\u001B[0m\u001B[0marg\u001B[0m\u001B[0;34m)\u001B[0m\u001B[0;34m:\u001B[0m\u001B[0;34m\u001B[0m\u001B[0;34m\u001B[0m\u001B[0m\n\u001B[0;32m--> 187\u001B[0;31m         \u001B[0mcall\u001B[0m \u001B[0;34m=\u001B[0m \u001B[0;32mlambda\u001B[0m \u001B[0mf\u001B[0m\u001B[0;34m,\u001B[0m \u001B[0;34m*\u001B[0m\u001B[0ma\u001B[0m\u001B[0;34m,\u001B[0m \u001B[0;34m**\u001B[0m\u001B[0mk\u001B[0m\u001B[0;34m:\u001B[0m \u001B[0mf\u001B[0m\u001B[0;34m(\u001B[0m\u001B[0;34m*\u001B[0m\u001B[0ma\u001B[0m\u001B[0;34m,\u001B[0m \u001B[0;34m**\u001B[0m\u001B[0mk\u001B[0m\u001B[0;34m)\u001B[0m\u001B[0;34m\u001B[0m\u001B[0;34m\u001B[0m\u001B[0m\n\u001B[0m\u001B[1;32m    188\u001B[0m \u001B[0;34m\u001B[0m\u001B[0m\n\u001B[1;32m    189\u001B[0m         \u001B[0;32mif\u001B[0m \u001B[0mcallable\u001B[0m\u001B[0;34m(\u001B[0m\u001B[0marg\u001B[0m\u001B[0;34m)\u001B[0m\u001B[0;34m:\u001B[0m\u001B[0;34m\u001B[0m\u001B[0;34m\u001B[0m\u001B[0m\n",
      "\u001B[0;32m/usr/local/lib/python3.10/dist-packages/IPython/core/magics/execution.py\u001B[0m in \u001B[0;36mrun\u001B[0;34m(self, parameter_s, runner, file_finder)\u001B[0m\n\u001B[1;32m    733\u001B[0m             \u001B[0;32mwith\u001B[0m \u001B[0mpreserve_keys\u001B[0m\u001B[0;34m(\u001B[0m\u001B[0mself\u001B[0m\u001B[0;34m.\u001B[0m\u001B[0mshell\u001B[0m\u001B[0;34m.\u001B[0m\u001B[0muser_ns\u001B[0m\u001B[0;34m,\u001B[0m \u001B[0;34m'__file__'\u001B[0m\u001B[0;34m)\u001B[0m\u001B[0;34m:\u001B[0m\u001B[0;34m\u001B[0m\u001B[0;34m\u001B[0m\u001B[0m\n\u001B[1;32m    734\u001B[0m                 \u001B[0mself\u001B[0m\u001B[0;34m.\u001B[0m\u001B[0mshell\u001B[0m\u001B[0;34m.\u001B[0m\u001B[0muser_ns\u001B[0m\u001B[0;34m[\u001B[0m\u001B[0;34m'__file__'\u001B[0m\u001B[0;34m]\u001B[0m \u001B[0;34m=\u001B[0m \u001B[0mfilename\u001B[0m\u001B[0;34m\u001B[0m\u001B[0;34m\u001B[0m\u001B[0m\n\u001B[0;32m--> 735\u001B[0;31m                 \u001B[0mself\u001B[0m\u001B[0;34m.\u001B[0m\u001B[0mshell\u001B[0m\u001B[0;34m.\u001B[0m\u001B[0msafe_execfile_ipy\u001B[0m\u001B[0;34m(\u001B[0m\u001B[0mfilename\u001B[0m\u001B[0;34m,\u001B[0m \u001B[0mraise_exceptions\u001B[0m\u001B[0;34m=\u001B[0m\u001B[0;32mTrue\u001B[0m\u001B[0;34m)\u001B[0m\u001B[0;34m\u001B[0m\u001B[0;34m\u001B[0m\u001B[0m\n\u001B[0m\u001B[1;32m    736\u001B[0m             \u001B[0;32mreturn\u001B[0m\u001B[0;34m\u001B[0m\u001B[0;34m\u001B[0m\u001B[0m\n\u001B[1;32m    737\u001B[0m \u001B[0;34m\u001B[0m\u001B[0m\n",
      "\u001B[0;32m/usr/local/lib/python3.10/dist-packages/IPython/core/interactiveshell.py\u001B[0m in \u001B[0;36msafe_execfile_ipy\u001B[0;34m(self, fname, shell_futures, raise_exceptions)\u001B[0m\n\u001B[1;32m   2903\u001B[0m                     \u001B[0mresult\u001B[0m \u001B[0;34m=\u001B[0m \u001B[0mself\u001B[0m\u001B[0;34m.\u001B[0m\u001B[0mrun_cell\u001B[0m\u001B[0;34m(\u001B[0m\u001B[0mcell\u001B[0m\u001B[0;34m,\u001B[0m \u001B[0msilent\u001B[0m\u001B[0;34m=\u001B[0m\u001B[0;32mTrue\u001B[0m\u001B[0;34m,\u001B[0m \u001B[0mshell_futures\u001B[0m\u001B[0;34m=\u001B[0m\u001B[0mshell_futures\u001B[0m\u001B[0;34m)\u001B[0m\u001B[0;34m\u001B[0m\u001B[0;34m\u001B[0m\u001B[0m\n\u001B[1;32m   2904\u001B[0m                     \u001B[0;32mif\u001B[0m \u001B[0mraise_exceptions\u001B[0m\u001B[0;34m:\u001B[0m\u001B[0;34m\u001B[0m\u001B[0;34m\u001B[0m\u001B[0m\n\u001B[0;32m-> 2905\u001B[0;31m                         \u001B[0mresult\u001B[0m\u001B[0;34m.\u001B[0m\u001B[0mraise_error\u001B[0m\u001B[0;34m(\u001B[0m\u001B[0;34m)\u001B[0m\u001B[0;34m\u001B[0m\u001B[0;34m\u001B[0m\u001B[0m\n\u001B[0m\u001B[1;32m   2906\u001B[0m                     \u001B[0;32melif\u001B[0m \u001B[0;32mnot\u001B[0m \u001B[0mresult\u001B[0m\u001B[0;34m.\u001B[0m\u001B[0msuccess\u001B[0m\u001B[0;34m:\u001B[0m\u001B[0;34m\u001B[0m\u001B[0;34m\u001B[0m\u001B[0m\n\u001B[1;32m   2907\u001B[0m                         \u001B[0;32mbreak\u001B[0m\u001B[0;34m\u001B[0m\u001B[0;34m\u001B[0m\u001B[0m\n",
      "\u001B[0;32m/usr/local/lib/python3.10/dist-packages/IPython/core/interactiveshell.py\u001B[0m in \u001B[0;36mraise_error\u001B[0;34m(self)\u001B[0m\n\u001B[1;32m    347\u001B[0m             \u001B[0;32mraise\u001B[0m \u001B[0mself\u001B[0m\u001B[0;34m.\u001B[0m\u001B[0merror_before_exec\u001B[0m\u001B[0;34m\u001B[0m\u001B[0;34m\u001B[0m\u001B[0m\n\u001B[1;32m    348\u001B[0m         \u001B[0;32mif\u001B[0m \u001B[0mself\u001B[0m\u001B[0;34m.\u001B[0m\u001B[0merror_in_exec\u001B[0m \u001B[0;32mis\u001B[0m \u001B[0;32mnot\u001B[0m \u001B[0;32mNone\u001B[0m\u001B[0;34m:\u001B[0m\u001B[0;34m\u001B[0m\u001B[0;34m\u001B[0m\u001B[0m\n\u001B[0;32m--> 349\u001B[0;31m             \u001B[0;32mraise\u001B[0m \u001B[0mself\u001B[0m\u001B[0;34m.\u001B[0m\u001B[0merror_in_exec\u001B[0m\u001B[0;34m\u001B[0m\u001B[0;34m\u001B[0m\u001B[0m\n\u001B[0m\u001B[1;32m    350\u001B[0m \u001B[0;34m\u001B[0m\u001B[0m\n\u001B[1;32m    351\u001B[0m     \u001B[0;32mdef\u001B[0m \u001B[0m__repr__\u001B[0m\u001B[0;34m(\u001B[0m\u001B[0mself\u001B[0m\u001B[0;34m)\u001B[0m\u001B[0;34m:\u001B[0m\u001B[0;34m\u001B[0m\u001B[0;34m\u001B[0m\u001B[0m\n",
      "    \u001B[0;31m[... skipping hidden 1 frame]\u001B[0m\n",
      "\u001B[0;32m<ipython-input-4-9c608d696527>\u001B[0m in \u001B[0;36m<cell line: 4>\u001B[0;34m()\u001B[0m\n\u001B[1;32m      2\u001B[0m \u001B[0;34m\u001B[0m\u001B[0m\n\u001B[1;32m      3\u001B[0m \u001B[0;32mfrom\u001B[0m \u001B[0mgoogle\u001B[0m\u001B[0;34m.\u001B[0m\u001B[0mcolab\u001B[0m \u001B[0;32mimport\u001B[0m \u001B[0mdrive\u001B[0m\u001B[0;34m\u001B[0m\u001B[0;34m\u001B[0m\u001B[0m\n\u001B[0;32m----> 4\u001B[0;31m \u001B[0mdrive\u001B[0m\u001B[0;34m.\u001B[0m\u001B[0mmount\u001B[0m\u001B[0;34m(\u001B[0m\u001B[0;34m'/content/drive/'\u001B[0m\u001B[0;34m)\u001B[0m\u001B[0;34m\u001B[0m\u001B[0;34m\u001B[0m\u001B[0m\n\u001B[0m\u001B[1;32m      5\u001B[0m \u001B[0mget_ipython\u001B[0m\u001B[0;34m(\u001B[0m\u001B[0;34m)\u001B[0m\u001B[0;34m.\u001B[0m\u001B[0mrun_line_magic\u001B[0m\u001B[0;34m(\u001B[0m\u001B[0;34m'cd'\u001B[0m\u001B[0;34m,\u001B[0m \u001B[0;34m'/content/OCT2Hist-UseModel'\u001B[0m\u001B[0;34m)\u001B[0m\u001B[0;34m\u001B[0m\u001B[0;34m\u001B[0m\u001B[0m\n\u001B[1;32m      6\u001B[0m \u001B[0;32mfrom\u001B[0m \u001B[0mutils\u001B[0m\u001B[0;34m.\u001B[0m\u001B[0mpix2pix\u001B[0m \u001B[0;32mimport\u001B[0m \u001B[0msetup_network\u001B[0m\u001B[0;34m\u001B[0m\u001B[0;34m\u001B[0m\u001B[0m\n",
      "\u001B[0;32m/usr/local/lib/python3.10/dist-packages/google/colab/drive.py\u001B[0m in \u001B[0;36mmount\u001B[0;34m(mountpoint, force_remount, timeout_ms, readonly)\u001B[0m\n\u001B[1;32m    101\u001B[0m \u001B[0;32mdef\u001B[0m \u001B[0mmount\u001B[0m\u001B[0;34m(\u001B[0m\u001B[0mmountpoint\u001B[0m\u001B[0;34m,\u001B[0m \u001B[0mforce_remount\u001B[0m\u001B[0;34m=\u001B[0m\u001B[0;32mFalse\u001B[0m\u001B[0;34m,\u001B[0m \u001B[0mtimeout_ms\u001B[0m\u001B[0;34m=\u001B[0m\u001B[0;36m120000\u001B[0m\u001B[0;34m,\u001B[0m \u001B[0mreadonly\u001B[0m\u001B[0;34m=\u001B[0m\u001B[0;32mFalse\u001B[0m\u001B[0;34m)\u001B[0m\u001B[0;34m:\u001B[0m\u001B[0;34m\u001B[0m\u001B[0;34m\u001B[0m\u001B[0m\n\u001B[1;32m    102\u001B[0m   \u001B[0;34m\"\"\"Mount your Google Drive at the specified mountpoint path.\"\"\"\u001B[0m\u001B[0;34m\u001B[0m\u001B[0;34m\u001B[0m\u001B[0m\n\u001B[0;32m--> 103\u001B[0;31m   return _mount(\n\u001B[0m\u001B[1;32m    104\u001B[0m       \u001B[0mmountpoint\u001B[0m\u001B[0;34m,\u001B[0m\u001B[0;34m\u001B[0m\u001B[0;34m\u001B[0m\u001B[0m\n\u001B[1;32m    105\u001B[0m       \u001B[0mforce_remount\u001B[0m\u001B[0;34m=\u001B[0m\u001B[0mforce_remount\u001B[0m\u001B[0;34m,\u001B[0m\u001B[0;34m\u001B[0m\u001B[0;34m\u001B[0m\u001B[0m\n",
      "\u001B[0;32m/usr/local/lib/python3.10/dist-packages/google/colab/drive.py\u001B[0m in \u001B[0;36m_mount\u001B[0;34m(mountpoint, force_remount, timeout_ms, ephemeral, readonly)\u001B[0m\n\u001B[1;32m    130\u001B[0m   )\n\u001B[1;32m    131\u001B[0m   \u001B[0;32mif\u001B[0m \u001B[0mephemeral\u001B[0m\u001B[0;34m:\u001B[0m\u001B[0;34m\u001B[0m\u001B[0;34m\u001B[0m\u001B[0m\n\u001B[0;32m--> 132\u001B[0;31m     _message.blocking_request(\n\u001B[0m\u001B[1;32m    133\u001B[0m         \u001B[0;34m'request_auth'\u001B[0m\u001B[0;34m,\u001B[0m \u001B[0mrequest\u001B[0m\u001B[0;34m=\u001B[0m\u001B[0;34m{\u001B[0m\u001B[0;34m'authType'\u001B[0m\u001B[0;34m:\u001B[0m \u001B[0;34m'dfs_ephemeral'\u001B[0m\u001B[0;34m}\u001B[0m\u001B[0;34m,\u001B[0m \u001B[0mtimeout_sec\u001B[0m\u001B[0;34m=\u001B[0m\u001B[0;32mNone\u001B[0m\u001B[0;34m\u001B[0m\u001B[0;34m\u001B[0m\u001B[0m\n\u001B[1;32m    134\u001B[0m     )\n",
      "\u001B[0;32m/usr/local/lib/python3.10/dist-packages/google/colab/_message.py\u001B[0m in \u001B[0;36mblocking_request\u001B[0;34m(request_type, request, timeout_sec, parent)\u001B[0m\n\u001B[1;32m    174\u001B[0m       \u001B[0mrequest_type\u001B[0m\u001B[0;34m,\u001B[0m \u001B[0mrequest\u001B[0m\u001B[0;34m,\u001B[0m \u001B[0mparent\u001B[0m\u001B[0;34m=\u001B[0m\u001B[0mparent\u001B[0m\u001B[0;34m,\u001B[0m \u001B[0mexpect_reply\u001B[0m\u001B[0;34m=\u001B[0m\u001B[0;32mTrue\u001B[0m\u001B[0;34m\u001B[0m\u001B[0;34m\u001B[0m\u001B[0m\n\u001B[1;32m    175\u001B[0m   )\n\u001B[0;32m--> 176\u001B[0;31m   \u001B[0;32mreturn\u001B[0m \u001B[0mread_reply_from_input\u001B[0m\u001B[0;34m(\u001B[0m\u001B[0mrequest_id\u001B[0m\u001B[0;34m,\u001B[0m \u001B[0mtimeout_sec\u001B[0m\u001B[0;34m)\u001B[0m\u001B[0;34m\u001B[0m\u001B[0;34m\u001B[0m\u001B[0m\n\u001B[0m",
      "\u001B[0;32m/usr/local/lib/python3.10/dist-packages/google/colab/_message.py\u001B[0m in \u001B[0;36mread_reply_from_input\u001B[0;34m(message_id, timeout_sec)\u001B[0m\n\u001B[1;32m    101\u001B[0m     ):\n\u001B[1;32m    102\u001B[0m       \u001B[0;32mif\u001B[0m \u001B[0;34m'error'\u001B[0m \u001B[0;32min\u001B[0m \u001B[0mreply\u001B[0m\u001B[0;34m:\u001B[0m\u001B[0;34m\u001B[0m\u001B[0;34m\u001B[0m\u001B[0m\n\u001B[0;32m--> 103\u001B[0;31m         \u001B[0;32mraise\u001B[0m \u001B[0mMessageError\u001B[0m\u001B[0;34m(\u001B[0m\u001B[0mreply\u001B[0m\u001B[0;34m[\u001B[0m\u001B[0;34m'error'\u001B[0m\u001B[0;34m]\u001B[0m\u001B[0;34m)\u001B[0m\u001B[0;34m\u001B[0m\u001B[0;34m\u001B[0m\u001B[0m\n\u001B[0m\u001B[1;32m    104\u001B[0m       \u001B[0;32mreturn\u001B[0m \u001B[0mreply\u001B[0m\u001B[0;34m.\u001B[0m\u001B[0mget\u001B[0m\u001B[0;34m(\u001B[0m\u001B[0;34m'data'\u001B[0m\u001B[0;34m,\u001B[0m \u001B[0;32mNone\u001B[0m\u001B[0;34m)\u001B[0m\u001B[0;34m\u001B[0m\u001B[0;34m\u001B[0m\u001B[0m\n\u001B[1;32m    105\u001B[0m \u001B[0;34m\u001B[0m\u001B[0m\n",
      "\u001B[0;31mMessageError\u001B[0m: Error: credential propagation was unsuccessful"
     ]
    }
   ]
  },
  {
   "cell_type": "markdown",
   "source": [
    "#Virtual oct2hist inputs (constants):"
   ],
   "metadata": {
    "id": "suO5vOplGPY5"
   }
  },
  {
   "cell_type": "code",
   "source": [
    "#how many microns per pixel for each axis\n",
    "microns_per_pixel_z = 1\n",
    "microns_per_pixel_x = 1\n",
    "\n",
    "# Path to a folder in drive to output the converted H&E images, leave blank if\n",
    "# you don't want to save H&E image to drive.\n",
    "histology_output_image_folder = \"\"\n",
    "\n",
    "#pix2pix input sizes\n",
    "VIRTUAL_HIST_WIDTH = 256\n",
    "VIRTUAL_HIST_HEIGHT = 256\n",
    "#verify input sizes\n",
    "MICRONS_PER_PIXEL_Z_TARGET = 2\n",
    "MICRONS_PER_PIXEL_X_TARGET = 4"
   ],
   "metadata": {
    "id": "JUUXZMgdFUAt"
   },
   "execution_count": null,
   "outputs": []
  },
  {
   "cell_type": "markdown",
   "source": [
    "# Preprocess\n",
    "Mask images, crop and convert to the right size"
   ],
   "metadata": {
    "id": "FYlb7hiAYnev"
   }
  },
  {
   "cell_type": "code",
   "source": [
    "import cv2\n",
    "import matplotlib.pyplot as plt\n",
    "import numpy as np\n",
    "\n",
    "# Load OCT image\n",
    "oct_image_orig = cv2.imread(oct_input_image_path)\n",
    "oct_image_orig = cv2.cvtColor(oct_image_orig, cv2.COLOR_BGR2RGB)\n",
    "oct_image = oct_image_orig.copy()\n",
    "showImg(oct_image)"
   ],
   "metadata": {
    "id": "0iKHLqfhtmmf"
   },
   "execution_count": null,
   "outputs": []
  },
  {
   "cell_type": "code",
   "execution_count": null,
   "outputs": [],
   "source": [
    "#calculate the new image size to according to source and target micron/pixel rate.\n",
    "new_image_width = int(oct_image.shape[1] * microns_per_pixel_x / MICRONS_PER_PIXEL_X_TARGET)\n",
    "new_image_height = int(oct_image.shape[0] * microns_per_pixel_z / MICRONS_PER_PIXEL_Z_TARGET)"
   ],
   "metadata": {
    "id": "7G6GZWDB_6t6"
   }
  },
  {
   "cell_type": "code",
   "execution_count": null,
   "outputs": [],
   "source": [
    "from utils.masking import mask_image\n",
    "preprocessed_img, filt_img = mask_image(oct_image)"
   ],
   "metadata": {
    "id": "6r2LCt2stBUZ"
   }
  },
  {
   "cell_type": "code",
   "execution_count": null,
   "outputs": [],
   "source": [
    "showImg(oct_image)"
   ],
   "metadata": {
    "id": "SPDKb6sgtBUZ"
   }
  },
  {
   "cell_type": "markdown",
   "source": [
    "#visualize user input to processed input"
   ],
   "metadata": {
    "collapsed": false,
    "id": "kfWHncHItBUZ"
   }
  },
  {
   "cell_type": "code",
   "execution_count": null,
   "outputs": [],
   "source": [
    "showTwoImgs(oct_image_orig, preprocessed_img)"
   ],
   "metadata": {
    "id": "-Ct_JQaQtBUZ"
   }
  },
  {
   "cell_type": "code",
   "execution_count": null,
   "outputs": [],
   "source": [
    "from utils.crop import crop\n",
    "cropped = crop(preprocessed_img)\n",
    "showImg(cropped)"
   ],
   "metadata": {
    "id": "feIAFbqztBUZ"
   }
  },
  {
   "cell_type": "code",
   "execution_count": null,
   "outputs": [],
   "source": [
    "resized = cv2.resize(cropped, [VIRTUAL_HIST_WIDTH,VIRTUAL_HIST_HEIGHT] , interpolation=cv2.INTER_AREA)\n",
    "o2h_input = resized"
   ],
   "metadata": {
    "id": "vq_FzZYttBUZ"
   }
  },
  {
   "cell_type": "markdown",
   "source": [
    "#visualize user input to o2h input"
   ],
   "metadata": {
    "collapsed": false,
    "id": "5uatamBctBUZ"
   }
  },
  {
   "cell_type": "code",
   "execution_count": null,
   "outputs": [],
   "source": [
    "showTwoImgs(oct_image, o2h_input)"
   ],
   "metadata": {
    "id": "F5yUTYvMtBUZ"
   }
  },
  {
   "cell_type": "code",
   "execution_count": null,
   "outputs": [],
   "source": [
    "# Perform pre-process\n",
    "oct_image_preprocessed = o2h_input\n",
    "\n",
    "# Show image to user\n",
    "showImg(oct_image)"
   ],
   "metadata": {
    "id": "UCtUN8ZstBUa"
   }
  },
  {
   "cell_type": "markdown",
   "source": [
    "# Run Model"
   ],
   "metadata": {
    "collapsed": false,
    "id": "nvM3OYSLtBUa"
   }
  },
  {
   "cell_type": "code",
   "source": [
    "%run oct2hist.ipynb\n",
    "oct2hist_output_path = f\"{base_folder}/results/pix2pix/test_latest/images/im1_fake_B.png\""
   ],
   "metadata": {
    "id": "d0cb63dN-cv7"
   },
   "execution_count": null,
   "outputs": []
  },
  {
   "cell_type": "markdown",
   "source": [
    "# Show results"
   ],
   "metadata": {
    "collapsed": false,
    "id": "mcXc8mQ6tBUa"
   }
  },
  {
   "cell_type": "code",
   "execution_count": null,
   "outputs": [],
   "source": [
    "# Load the virtual histology image\n",
    "histology_image = cv2.imread(oct2hist_output_path)\n",
    "histology_image = cv2.cvtColor(histology_image, cv2.COLOR_BGR2RGB)\n",
    "showImg(histology_image)"
   ],
   "metadata": {
    "id": "zER04dS2tBUa"
   }
  },
  {
   "cell_type": "code",
   "execution_count": null,
   "outputs": [],
   "source": [
    "#visualize\n",
    "height,width = cropped.shape[:2]\n",
    "histology_image_resized = cv2.resize(histology_image, [width,height] , interpolation=cv2.INTER_AREA)\n",
    "showTwoImgs(cropped, histology_image_resized)"
   ],
   "metadata": {
    "id": "SBTbZrN5tBUa"
   }
  }
 ]
}
