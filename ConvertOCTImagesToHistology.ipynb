{
  "nbformat": 4,
  "nbformat_minor": 0,
  "metadata": {
    "colab": {
      "provenance": [],
      "gpuType": "T4"
    },
    "kernelspec": {
      "name": "python3",
      "display_name": "Python 3"
    },
    "language_info": {
      "name": "python"
    },
    "accelerator": "GPU"
  },
  "cells": [
    {
      "cell_type": "markdown",
      "source": [
        "# Overview\n",
        "Use this notebook to convert an OCT image you have to an H&E image in order to evaluate how the code works.\n",
        "\n",
        "To get started,\n",
        "[open this notebook in colab](https://colab.research.google.com/github/WinetraubLab/OCT2Hist-UseModel/blob/main/ConvertOCTImagesToHistology.ipynb) and run.\n",
        "\n",
        "## Notebook's Inputs:"
      ],
      "metadata": {
        "id": "NQOdtmQ3laV6"
      }
    },
    {
      "cell_type": "code",
      "source": [
        "!git clone --recurse-submodules https://github.com/WinetraubLab/OCT2Hist-UseModel\n",
        "from utils.show_images import *\n",
        "from utils.crop import *\n",
        "#add google drive\n",
        "%run /content/OCT2Hist-UseModel/setup_env.ipynb\n",
        "oct_input_image_path = \"/content/drive/Shareddrives/Yolab - Current Projects/_Datasets/2020-11-10 10x Raw Data Used In Paper (Paper V2)/LG-19 - Slide04_Section02 (Fig 3.c)/OCTAligned.tiff\"\n"
      ],
      "metadata": {
        "id": "KpOc9uoU27Ol"
      },
      "execution_count": null,
      "outputs": []
    },
    {
      "cell_type": "markdown",
      "source": [
        "#Virtual oct2hist inputs (constants):"
      ],
      "metadata": {
        "id": "suO5vOplGPY5"
      }
    },
    {
      "cell_type": "code",
      "source": [
        "#how many microns per pixel for each axis\n",
        "microns_per_pixel_z = 1\n",
        "microns_per_pixel_x = 1\n",
        "\n",
        "# Path to a folder in drive to output the converted H&E images, leave blank if\n",
        "# you don't want to save H&E image to drive.\n",
        "histology_output_image_folder = \"\"\n",
        "\n",
        "#pix2pix input sizes\n",
        "VIRTUAL_HIST_WIDTH = 256\n",
        "VIRTUAL_HIST_HEIGHT = 256\n",
        "#verify input sizes\n",
        "MICRONS_PER_PIXEL_Z_TARGET = 2\n",
        "MICRONS_PER_PIXEL_X_TARGET = 4"
      ],
      "metadata": {
        "id": "JUUXZMgdFUAt"
      },
      "execution_count": null,
      "outputs": []
    },
    {
      "cell_type": "markdown",
      "source": [
        "# Preprocess\n",
        "Mask images, crop and convert to the right size"
      ],
      "metadata": {
        "id": "FYlb7hiAYnev"
      }
    },
    {
      "cell_type": "code",
      "source": [
        "import cv2\n",
        "import matplotlib.pyplot as plt\n",
        "import numpy as np\n",
        "\n",
        "# Load OCT image\n",
        "oct_image_orig = cv2.imread(oct_input_image_path)\n",
        "oct_image_orig = cv2.cvtColor(oct_image_orig, cv2.COLOR_BGR2RGB)\n",
        "oct_image = oct_image_orig.copy()\n",
        "showImg(oct_image)"
      ],
      "metadata": {
        "id": "0iKHLqfhtmmf"
      },
      "execution_count": null,
      "outputs": []
    },
    {
      "cell_type": "code",
      "execution_count": null,
      "outputs": [],
      "source": [
        "#calculate the new image size to according to source and target micron/pixel rate.\n",
        "new_image_width = int(oct_image.shape[1] * microns_per_pixel_x / MICRONS_PER_PIXEL_X_TARGET)\n",
        "new_image_height = int(oct_image.shape[0] * microns_per_pixel_z / MICRONS_PER_PIXEL_Z_TARGET)"
      ],
      "metadata": {
        "id": "7G6GZWDB_6t6"
      }
    },
    {
      "cell_type": "code",
      "execution_count": null,
      "outputs": [],
      "source": [
        "from utils.masking import mask_image\n",
        "preprocessed_img, filt_img = mask_image(oct_image)"
      ],
      "metadata": {
        "id": "6r2LCt2stBUZ"
      }
    },
    {
      "cell_type": "code",
      "execution_count": null,
      "outputs": [],
      "source": [
        "showImg(oct_image)"
      ],
      "metadata": {
        "id": "SPDKb6sgtBUZ"
      }
    },
    {
      "cell_type": "markdown",
      "source": [
        "#visualize user input to processed input"
      ],
      "metadata": {
        "collapsed": false,
        "id": "kfWHncHItBUZ"
      }
    },
    {
      "cell_type": "code",
      "execution_count": null,
      "outputs": [],
      "source": [
        "showTwoImgs(oct_image_orig, preprocessed_img)"
      ],
      "metadata": {
        "id": "-Ct_JQaQtBUZ"
      }
    },
    {
      "cell_type": "code",
      "execution_count": null,
      "outputs": [],
      "source": [
        "from utils.crop import crop\n",
        "cropped = crop(preprocessed_img)\n",
        "showImg(cropped)"
      ],
      "metadata": {
        "id": "feIAFbqztBUZ"
      }
    },
    {
      "cell_type": "code",
      "execution_count": null,
      "outputs": [],
      "source": [
        "resized = cv2.resize(cropped, [VIRTUAL_HIST_WIDTH,VIRTUAL_HIST_HEIGHT] , interpolation=cv2.INTER_AREA)\n",
        "o2h_input = resized"
      ],
      "metadata": {
        "id": "vq_FzZYttBUZ"
      }
    },
    {
      "cell_type": "markdown",
      "source": [
        "#visualize user input to o2h input"
      ],
      "metadata": {
        "collapsed": false,
        "id": "5uatamBctBUZ"
      }
    },
    {
      "cell_type": "code",
      "execution_count": null,
      "outputs": [],
      "source": [
        "showTwoImgs(oct_image, o2h_input)"
      ],
      "metadata": {
        "id": "F5yUTYvMtBUZ"
      }
    },
    {
      "cell_type": "code",
      "execution_count": null,
      "outputs": [],
      "source": [
        "# Perform pre-process\n",
        "oct_image_preprocessed = o2h_input\n",
        "\n",
        "# Show image to user\n",
        "showImg(oct_image)"
      ],
      "metadata": {
        "id": "UCtUN8ZstBUa"
      }
    },
    {
      "cell_type": "markdown",
      "source": [
        "# Run Model"
      ],
      "metadata": {
        "collapsed": false,
        "id": "nvM3OYSLtBUa"
      }
    },
    {
      "cell_type": "code",
      "source": [
        "%run oct2hist.ipynb\n",
        "oct2hist_output_path = f\"{base_folder}/results/pix2pix/test_latest/images/im1_fake_B.png\""
      ],
      "metadata": {
        "id": "d0cb63dN-cv7"
      },
      "execution_count": null,
      "outputs": []
    },
    {
      "cell_type": "markdown",
      "source": [
        "# Show results"
      ],
      "metadata": {
        "collapsed": false,
        "id": "mcXc8mQ6tBUa"
      }
    },
    {
      "cell_type": "code",
      "execution_count": null,
      "outputs": [],
      "source": [
        "# Load the virtual histology image\n",
        "histology_image = cv2.imread(oct2hist_output_path)\n",
        "histology_image = cv2.cvtColor(histology_image, cv2.COLOR_BGR2RGB)\n",
        "showImg(histology_image)"
      ],
      "metadata": {
        "id": "zER04dS2tBUa"
      }
    },
    {
      "cell_type": "code",
      "execution_count": null,
      "outputs": [],
      "source": [
        "#visualize\n",
        "height,width = cropped.shape[:2]\n",
        "histology_image_resized = cv2.resize(histology_image, [width,height] , interpolation=cv2.INTER_AREA)\n",
        "showTwoImgs(cropped, histology_image_resized)"
      ],
      "metadata": {
        "id": "SBTbZrN5tBUa"
      }
    }
  ]
}