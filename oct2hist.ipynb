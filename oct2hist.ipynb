{
 "nbformat": 4,
 "nbformat_minor": 0,
 "metadata": {
  "colab": {
   "provenance": []
  },
  "kernelspec": {
   "name": "python3",
   "display_name": "Python 3"
  },
  "language_info": {
   "name": "python"
  }
 },
 "cells": [
  {
   "cell_type": "code",
   "execution_count": null,
   "metadata": {
    "id": "zXWJRlRMlmXZ"
   },
   "outputs": [],
   "source": [
    "input_path = f\"{base_folder}/dataset/test/im1.jpg\"\n",
    "# Before writting image to file, check size\n",
    "if oct_image_preprocessed.shape[:2] != (256, 256):\n",
    "        raise ValueError(\"Image size must be 256x256 pixels to run model on.\")\n",
    "\n",
    "# Padd image and write it to the correct place\n",
    "padded = np.zeros([256,512,3], np.uint8)\n",
    "padded[:,:256,:] = oct_image_preprocessed[:,:,:]\n",
    "cv2.imwrite(input_path, padded)\n",
    "!python {base_folder}/test.py --netG resnet_9blocks --dataroot \"{base_folder}/dataset/\"  --model pix2pix --name pix2pix --checkpoints_dir \"{base_folder}/checkpoints\" --results_dir \"{base_folder}/results\"\n",
    "\n"
   ]
  }
 ]
}
