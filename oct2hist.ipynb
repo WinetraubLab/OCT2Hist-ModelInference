{
 "nbformat": 4,
 "nbformat_minor": 0,
 "metadata": {
  "colab": {
   "provenance": []
  },
  "kernelspec": {
   "name": "python3",
   "display_name": "Python 3"
  },
  "language_info": {
   "name": "python"
  }
 },
 "cells": [
  {
   "cell_type": "code",
   "execution_count": null,
   "metadata": {
    "id": "zXWJRlRMlmXZ"
   },
   "outputs": [],
   "source": [
    "#This is not a standalone code, it depends on the following existing variables:\n",
    "#base_folder - path to pix2pix\n",
    "#o2h_input - input image to oct2hist\n",
    "\n",
    "\n",
    "import os\n",
    "dir = f\"{base_folder}/dataset/test\"\n",
    "os.makedirs(dir)\n",
    "oct2hist_input_path = os.path.join(dir,\"im1.jpg\")\n",
    "# Before writting image to file, check size\n",
    "if o2h_input.shape[:2] != (256, 256):\n",
    "        raise ValueError(\"Image size must be 256x256 pixels to run model on.\")\n",
    "\n",
    "# Padd image and write it to the correct place\n",
    "padded = np.zeros([256,512,3], np.uint8)\n",
    "padded[:,:256,:] = o2h_input[:,:,:]\n",
    "cv2.imwrite(oct2hist_input_path, padded)\n",
    "!python {base_folder}/test.py --netG resnet_9blocks --dataroot \"{base_folder}/dataset/\"  --model pix2pix --name pix2pix --checkpoints_dir \"{base_folder}/checkpoints\" --results_dir \"{base_folder}/results\"\n",
    "\n",
    "oct2hist_output_path = f\"{base_folder}/results/pix2pix/test_latest/images/im1_fake_B.png\""
   ]
  }
 ]
}
