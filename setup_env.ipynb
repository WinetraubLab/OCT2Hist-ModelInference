{
 "nbformat": 4,
 "nbformat_minor": 0,
 "metadata": {
  "colab": {
   "provenance": []
  },
  "kernelspec": {
   "name": "python3",
   "display_name": "Python 3"
  },
  "language_info": {
   "name": "python"
  }
 },
 "cells": [
  {
   "cell_type": "code",
   "execution_count": null,
   "metadata": {
    "id": "zXWJRlRMlmXZ"
   },
   "outputs": [],
   "source": [
    "import os\n",
    "from google.colab import drive\n",
    "# Get the current script's folder path\n",
    "current_folder = os.path.dirname(os.path.realpath(__file__))+'\\'\n",
    "drive.mount('/content/drive/')\n",
    "%cd {current_folder}\n",
    "import utils.pix2pix as pix2pix\n",
    "pix2pix.setup_network()\n",
    "print(f\" in {os.getcwd()}, moving to {current_folder}\")\n",
    "%cd {current_folder}\n"
   ]
  }
 ]
}
