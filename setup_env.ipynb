{
 "nbformat": 4,
 "nbformat_minor": 0,
 "metadata": {
  "colab": {
   "provenance": []
  },
  "kernelspec": {
   "name": "python3",
   "display_name": "Python 3"
  },
  "language_info": {
   "name": "python"
  }
 },
 "cells": [
  {
   "cell_type": "code",
   "execution_count": null,
   "metadata": {
    "id": "zXWJRlRMlmXZ"
   },
   "outputs": [],
   "source": [
    "import os\n",
    "from google.colab import drive\n",
    "drive.mount('/content/drive/')\n",
    "%cd /content/OCT2Hist-UseModel\n",
    "import utils.pix2pix\n",
    "pix2pix.setup_network()\n",
    "print(f\" in {os.getcwd()}, moving to /content/OCT2Hist-UseModel\")\n",
    "%cd /content/OCT2Hist-UseModel\n"
   ]
  }
 ]
}
