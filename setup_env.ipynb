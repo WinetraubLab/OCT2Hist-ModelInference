{
  "nbformat": 4,
  "nbformat_minor": 0,
  "metadata": {
    "colab": {
      "provenance": []
    },
    "kernelspec": {
      "name": "python3",
      "display_name": "Python 3"
    },
    "language_info": {
      "name": "python"
    }
  },
  "cells": [
    {
      "cell_type": "code",
      "execution_count": null,
      "metadata": {
        "id": "zXWJRlRMlmXZ"
      },
      "outputs": [],
      "source": [
        "from google.colab import drive\n",
        "drive.mount('/content/drive/')\n",
        "\n",
        "# Clone repository\n",
        "%cd /content/\n",
        "!git clone --recurse-submodules https://github.com/WinetraubLab/OCT2Hist-UseModel\n",
        "%cd /content/OCT2Hist-UseModel"
      ]
    }
  ]
}