{
 "nbformat": 4,
 "nbformat_minor": 0,
 "metadata": {
  "colab": {
   "provenance": []
  },
  "kernelspec": {
   "name": "python3",
   "display_name": "Python 3"
  },
  "language_info": {
   "name": "python"
  }
 },
 "cells": [
  {
   "cell_type": "code",
   "execution_count": null,
   "metadata": {
    "id": "zXWJRlRMlmXZ"
   },
   "outputs": [],
   "source": [
    "import os\n",
    "\n",
    "from google.colab import drive\n",
    "drive.mount('/content/drive/')\n",
    "%cd /content/OCT2Hist-UseModel\n",
    "from utils.run_pix2pix_utils import setup_network\n",
    "base_folder = \"/content/OCT2Hist-UseModel/pytorch-CycleGAN-and-pix2pix\"\n",
    "setup_network()\n",
    "print(f\" in {os.getcwd()}, moving to /content/OCT2Hist-UseModel\")\n",
    "%cd /content/OCT2Hist-UseModel\n"
   ]
  }
 ]
}
